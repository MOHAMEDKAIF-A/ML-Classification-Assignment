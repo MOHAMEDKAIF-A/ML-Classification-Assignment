{
 "cells": [
  {
   "cell_type": "code",
   "execution_count": 2,
   "id": "cf526f67",
   "metadata": {},
   "outputs": [
    {
     "name": "stderr",
     "output_type": "stream",
     "text": [
      "C:\\anaconda\\lib\\site-packages\\sklearn\\base.py:451: UserWarning: X does not have valid feature names, but DecisionTreeClassifier was fitted with feature names\n",
      "  \"X does not have valid feature names, but\"\n"
     ]
    }
   ],
   "source": [
    "#Send to end user/Deployment\n",
    "import pickle\n",
    "loaded_model=pickle.load(open(\"finalized_model_Decision_Tree_Classification_GridSearchCV.sav\",'rb'))\n",
    "result=loaded_model.predict([[23,12,10,13,120,34,98,45,76,66,76,80,12,62,63,86,45,0,1,0,1,0,1,0,1,0,1]])"
   ]
  },
  {
   "cell_type": "code",
   "execution_count": 3,
   "id": "00c73f02",
   "metadata": {},
   "outputs": [
    {
     "data": {
      "text/plain": [
       "array([1], dtype=uint8)"
      ]
     },
     "execution_count": 3,
     "metadata": {},
     "output_type": "execute_result"
    }
   ],
   "source": [
    "result"
   ]
  },
  {
   "cell_type": "code",
   "execution_count": null,
   "id": "5629f9a6",
   "metadata": {},
   "outputs": [],
   "source": []
  }
 ],
 "metadata": {
  "kernelspec": {
   "display_name": "Python 3 (ipykernel)",
   "language": "python",
   "name": "python3"
  },
  "language_info": {
   "codemirror_mode": {
    "name": "ipython",
    "version": 3
   },
   "file_extension": ".py",
   "mimetype": "text/x-python",
   "name": "python",
   "nbconvert_exporter": "python",
   "pygments_lexer": "ipython3",
   "version": "3.7.4"
  }
 },
 "nbformat": 4,
 "nbformat_minor": 5
}
